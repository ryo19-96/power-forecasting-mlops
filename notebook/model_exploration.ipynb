{
 "cells": [
  {
   "cell_type": "code",
   "execution_count": null,
   "id": "0324e4cc",
   "metadata": {},
   "outputs": [],
   "source": [
    "import os\n",
    "\n",
    "import requests\n",
    "\n",
    "# 気象庁データの取得\n",
    "# jma_url = \"https://www.jma.go.jp/bosai/forecast/data/forecast/130000.json\"\n",
    "jma_url = \"https://weather.tsukumijima.net/api/forecast/city/130010\"\n",
    "jma_json = requests.get(jma_url).json()\n"
   ]
  },
  {
   "cell_type": "code",
   "execution_count": null,
   "id": "12f08d33",
   "metadata": {},
   "outputs": [],
   "source": [
    "jma_json"
   ]
  },
  {
   "cell_type": "code",
   "execution_count": null,
   "id": "6bd4a4ec",
   "metadata": {},
   "outputs": [],
   "source": [
    "import pandas as pd\n",
    "\n",
    "weather_df = pd.read_csv(\"../data/weather_data.csv\", encoding=\"shift-jis\", skiprows=[0,1,2,4,5])"
   ]
  },
  {
   "cell_type": "code",
   "execution_count": null,
   "id": "fd589fad",
   "metadata": {},
   "outputs": [],
   "source": [
    "weather_df"
   ]
  },
  {
   "cell_type": "code",
   "execution_count": null,
   "id": "6f535c61",
   "metadata": {},
   "outputs": [],
   "source": [
    "\n",
    "weather_df = weather_df[[\"年月日\", \"最高気温(℃)\", \"最低気温(℃)\", \"天気概況(昼：06時〜18時)\"]]\n",
    "weather_df = weather_df.rename(columns={\n",
    "    \"年月日\": \"date\",\n",
    "    \"最高気温(℃)\": \"max_temp\",\n",
    "    \"最低気温(℃)\": \"min_temp\",\n",
    "    \"天気概況(昼：06時〜18時)\": \"weather\",\n",
    "})"
   ]
  },
  {
   "cell_type": "code",
   "execution_count": null,
   "id": "649b622c",
   "metadata": {},
   "outputs": [],
   "source": [
    "weather_df[\"date\"] = pd.to_datetime(weather_df[\"date\"], format=\"%Y/%m/%d\")"
   ]
  },
  {
   "cell_type": "code",
   "execution_count": null,
   "id": "20522e56",
   "metadata": {},
   "outputs": [],
   "source": [
    "weather_df.head(n=3)"
   ]
  },
  {
   "cell_type": "code",
   "execution_count": null,
   "id": "0c066a41",
   "metadata": {},
   "outputs": [],
   "source": [
    "weather_df.info()"
   ]
  },
  {
   "cell_type": "code",
   "execution_count": null,
   "id": "33c8cde8",
   "metadata": {},
   "outputs": [],
   "source": [
    "import zipfile"
   ]
  },
  {
   "cell_type": "code",
   "execution_count": null,
   "id": "ef09f6f1",
   "metadata": {},
   "outputs": [],
   "source": [
    "zip_dir = os.path.expanduser(\"../data/power_usage\")\n",
    "result = []"
   ]
  },
  {
   "cell_type": "code",
   "execution_count": null,
   "id": "a452e943",
   "metadata": {},
   "outputs": [],
   "source": [
    "for zip_name in sorted(os.listdir(zip_dir)):\n",
    "    if not zip_name.endswith(\".zip\"):\n",
    "        continue\n",
    "\n",
    "    zip_path = os.path.join(zip_dir, zip_name)\n",
    "\n",
    "    with zipfile.ZipFile(zip_path, \"r\") as zip_ref:\n",
    "        for csv_filename in zip_ref.namelist():\n",
    "\n",
    "            if not csv_filename.endswith(\".csv\"):\n",
    "                continue\n",
    "\n",
    "            with zip_ref.open(csv_filename) as csv_file:\n",
    "                try:\n",
    "                    df = pd.read_csv(csv_file, encoding=\"shift-jis\", skiprows=54)\n",
    "                    max_power = df[\"当日実績(５分間隔値)(万kW)\"].max()\n",
    "                    result.append({\n",
    "                        \"date\": csv_filename.split(\"_\")[0],\n",
    "                        \"max_power\": max_power,\n",
    "                    })\n",
    "                except Exception as e:\n",
    "                    print(f\"Error reading {csv_filename}: {e}\")\n"
   ]
  },
  {
   "cell_type": "code",
   "execution_count": null,
   "id": "036271c3",
   "metadata": {},
   "outputs": [],
   "source": [
    "power_usage_df = pd.DataFrame(result)\n",
    "power_usage_df[\"date\"] = pd.to_datetime(power_usage_df[\"date\"], format=\"%Y%m%d\")"
   ]
  },
  {
   "cell_type": "code",
   "execution_count": null,
   "id": "dc22e0df",
   "metadata": {},
   "outputs": [],
   "source": [
    "integrated_df = pd.merge(weather_df, power_usage_df, on=\"date\", how=\"inner\")"
   ]
  },
  {
   "cell_type": "code",
   "execution_count": null,
   "id": "415f96cc",
   "metadata": {},
   "outputs": [],
   "source": [
    "integrated_df"
   ]
  },
  {
   "cell_type": "code",
   "execution_count": null,
   "id": "5ab8eecf",
   "metadata": {},
   "outputs": [],
   "source": [
    "integrated_df[\"weather\"].unique()"
   ]
  },
  {
   "cell_type": "code",
   "execution_count": null,
   "id": "1149f8ab",
   "metadata": {},
   "outputs": [],
   "source": [
    "def weather_check(weather: str) -> str:\n",
    "    \"\"\"天気の文字列を基本的なカテゴリに分類する関数\n",
    "    \n",
    "    Args:\n",
    "        weather: 元の天気の説明文字列\n",
    "        \n",
    "    Returns:\n",
    "        str: 分類された天気カテゴリ\n",
    "            快晴、晴れ、晴れ時々曇り、晴れ時々雨、曇り、曇り時々雨、雨、\n",
    "            雷雨、晴れ（雷あり）、曇り（雷あり）、雷、霧・もや、その他、不明 (NaN値の場合)\n",
    "    \"\"\"\n",
    "    if pd.isna(weather):\n",
    "        return \"不明\"\n",
    "\n",
    "    # 雪系\n",
    "    if any(keyword in weather for keyword in [\"雪\", \"ゆき\"]):\n",
    "        return \"雪\"\n",
    "\n",
    "    # 雷系\n",
    "    if \"雷\" in weather:\n",
    "        if any(keyword in weather for keyword in [\"雨\", \"あめ\"]):\n",
    "            return \"雷雨\"\n",
    "        if any(keyword in weather for keyword in [\"晴\", \"日射\"]):\n",
    "            return \"晴れ(雷あり)\"\n",
    "        if any(keyword in weather for keyword in [\"曇\", \"くもり\"]):\n",
    "            return \"曇り(雷あり)\"\n",
    "        return \"雷\"\n",
    "\n",
    "    # 晴れ系\n",
    "    if \"快晴\" in weather:\n",
    "        return \"快晴\"\n",
    "    if any(keyword in weather for keyword in [\"晴\", \"日射\"]):\n",
    "        if any(keyword in weather for keyword in [\"曇\", \"くもり\"]):\n",
    "            return \"晴れ時々曇り\"\n",
    "        if any(keyword in weather for keyword in [\"雨\", \"あめ\", \"雷\"]):\n",
    "            return \"晴れ時々雨\"\n",
    "        return \"晴れ\"\n",
    "\n",
    "    # 曇り系\n",
    "    if any(keyword in weather for keyword in [\"曇\", \"くもり\"]):\n",
    "        if any(keyword in weather for keyword in [\"雨\", \"あめ\"]):\n",
    "            return \"曇り時々雨\"\n",
    "        return \"曇り\"\n",
    "\n",
    "    # 雨系\n",
    "    if any(keyword in weather for keyword in [\"雨\", \"あめ\"]):\n",
    "        return \"雨\"\n",
    "\n",
    "    # その他\n",
    "    return \"その他\"\n",
    "\n",
    "integrated_df[\"weather_category\"] = integrated_df[\"weather\"].apply(weather_check)\n",
    "integrated_df = integrated_df.drop(columns=[\"weather\"])"
   ]
  },
  {
   "cell_type": "code",
   "execution_count": null,
   "id": "503fe4ca",
   "metadata": {},
   "outputs": [],
   "source": [
    "integrated_df[\"weather_category\"].value_counts()"
   ]
  },
  {
   "cell_type": "code",
   "execution_count": null,
   "id": "428c591a",
   "metadata": {},
   "outputs": [],
   "source": [
    "integrated_df"
   ]
  },
  {
   "cell_type": "code",
   "execution_count": null,
   "id": "fbc056d8",
   "metadata": {},
   "outputs": [],
   "source": [
    "import holidays\n",
    "import numpy as np\n",
    "\n",
    "JP_HOLIDAY = holidays.Japan()"
   ]
  },
  {
   "cell_type": "code",
   "execution_count": null,
   "id": "07ae99d1",
   "metadata": {},
   "outputs": [],
   "source": [
    "def make_features(df: pd.DataFrame) -> pd.DataFrame:\n",
    "    \"\"\"データフレーム全体に対して特徴量を作成する関数\n",
    "    \n",
    "    Args:\n",
    "        df: pd.DataFrame（date, max_temp, min_temp, weather_category列を含む）\n",
    "        \n",
    "    Returns:\n",
    "        pd.DataFrame: 特徴量を追加したデータフレーム\n",
    "    \"\"\"\n",
    "    result_df = df.copy()\n",
    "\n",
    "    # 数値系特徴量\n",
    "    result_df[\"avg\"] = (df[\"max_temp\"] + df[\"min_temp\"]) / 2\n",
    "    result_df[\"rng\"] = df[\"max_temp\"] - df[\"min_temp\"]\n",
    "    result_df[\"cdd\"] = (result_df[\"avg\"] - 18).clip(lower=0)\n",
    "    result_df[\"hdd\"] = (18 - result_df[\"avg\"]).clip(lower=0)\n",
    "    result_df[\"hot\"] = (df[\"max_temp\"] >= 30).astype(int)\n",
    "    result_df[\"cold\"] = (df[\"min_temp\"] <= 5).astype(int)\n",
    "\n",
    "    # カレンダー系特徴量\n",
    "    result_df[\"year\"] = df[\"date\"].dt.year\n",
    "    result_df[\"month\"] = df[\"date\"].dt.month\n",
    "    result_df[\"day\"] = df[\"date\"].dt.day\n",
    "    result_df[\"dow\"] = df[\"date\"].dt.weekday\n",
    "    result_df[\"dow_sin\"] = np.sin(2 * np.pi * result_df[\"dow\"] / 7)\n",
    "    result_df[\"dow_cos\"] = np.cos(2 * np.pi * result_df[\"dow\"] / 7)\n",
    "    result_df[\"mon_sin\"] = np.sin(2 * np.pi * result_df[\"month\"] / 12)\n",
    "    result_df[\"mon_cos\"] = np.cos(2 * np.pi * result_df[\"month\"] / 12)\n",
    "    # 休日フラグ\n",
    "    result_df[\"weekend\"] = (result_df[\"dow\"] >= 5).astype(int)\n",
    "    # 祝日フラグ\n",
    "    result_df[\"holiday\"] = result_df[\"date\"].apply(lambda x: int(x in JP_HOLIDAY))\n",
    "\n",
    "    return result_df"
   ]
  },
  {
   "cell_type": "code",
   "execution_count": null,
   "id": "b5b2f462",
   "metadata": {},
   "outputs": [],
   "source": [
    "from typing import Dict\n",
    "\n",
    "from omegaconf import DictConfig, OmegaConf\n",
    "\n",
    "from feature_encoder import FeatureEncoder"
   ]
  },
  {
   "cell_type": "code",
   "execution_count": null,
   "id": "d9c3db4c",
   "metadata": {},
   "outputs": [],
   "source": [
    "df = make_features(integrated_df)"
   ]
  },
  {
   "cell_type": "code",
   "execution_count": null,
   "id": "fcf2114f",
   "metadata": {},
   "outputs": [],
   "source": [
    "encoders_dict = {}\n"
   ]
  },
  {
   "cell_type": "code",
   "execution_count": null,
   "id": "40469a4f",
   "metadata": {},
   "outputs": [],
   "source": [
    "config_path = \"config.yaml\"\n",
    "config = OmegaConf.load(config_path)\n",
    "print(\"Config keys:\", config.keys())\n",
    "print(\"Encoders config:\", config.get(\"encoders\", \"Not found\"))"
   ]
  },
  {
   "cell_type": "code",
   "execution_count": null,
   "id": "e328ec59",
   "metadata": {},
   "outputs": [],
   "source": [
    "def encode_features(df: pd.DataFrame, config: DictConfig, encoders_dict: Dict[str, FeatureEncoder]):\n",
    "    \"\"\"特徴量をエンコードする関数\n",
    "    \n",
    "    Args: Dictconfig\n",
    "        config: 設定ファイルの内容\n",
    "        encoders_dict: エンコーダー辞書\n",
    "        df: pd.DataFrame（特徴量を含む）\n",
    "        \n",
    "    Returns:\n",
    "        pd.DataFrame: エンコードされたデータフレーム\n",
    "    \"\"\"\n",
    "    if \"encoders\" in config:\n",
    "        for params in config[\"encoders\"]:\n",
    "            if params[\"name\"] not in encoders_dict:\n",
    "                encoder = FeatureEncoder(**params)\n",
    "                df = encoder.fit_transform(df)\n",
    "                encoders_dict[params[\"name\"]] = encoder\n",
    "            else:\n",
    "                encoder = encoders_dict[params[\"name\"]]\n",
    "                df = encoder.transform(df)\n",
    "    return df, encoders_dict\n"
   ]
  },
  {
   "cell_type": "code",
   "execution_count": null,
   "id": "b08bc693",
   "metadata": {},
   "outputs": [],
   "source": [
    "df, encoders_dict = encode_features(df, config, encoders_dict)"
   ]
  },
  {
   "cell_type": "code",
   "execution_count": null,
   "id": "d81edcb4",
   "metadata": {},
   "outputs": [],
   "source": [
    "df"
   ]
  },
  {
   "cell_type": "code",
   "execution_count": null,
   "id": "28178893",
   "metadata": {},
   "outputs": [],
   "source": [
    "import lightgbm as lgb"
   ]
  },
  {
   "cell_type": "code",
   "execution_count": null,
   "id": "b4bca0fb",
   "metadata": {},
   "outputs": [],
   "source": [
    "model = lgb.LGBMRegressor()"
   ]
  },
  {
   "cell_type": "code",
   "execution_count": null,
   "id": "6def2859",
   "metadata": {},
   "outputs": [],
   "source": [
    "df.info()"
   ]
  },
  {
   "cell_type": "code",
   "execution_count": null,
   "id": "3b4460c1",
   "metadata": {},
   "outputs": [],
   "source": [
    "df_train = df[df[\"date\"] < \"2024-10-01\"]\n",
    "df_test = df[df[\"date\"] >= \"2024-10-01\"]"
   ]
  },
  {
   "cell_type": "code",
   "execution_count": null,
   "id": "a71a51df",
   "metadata": {},
   "outputs": [],
   "source": [
    "X_train = df_train.drop(columns = [\"max_power\", \"date\"])\n",
    "y_train = df_train[\"max_power\"]\n",
    "X_test = df_test.drop(columns = [\"max_power\", \"date\"])\n",
    "y_test = df_test[\"max_power\"]"
   ]
  },
  {
   "cell_type": "code",
   "execution_count": null,
   "id": "953c9d58",
   "metadata": {},
   "outputs": [],
   "source": [
    "model.fit(X_train, y_train)"
   ]
  },
  {
   "cell_type": "code",
   "execution_count": null,
   "id": "582c9174",
   "metadata": {},
   "outputs": [],
   "source": [
    "model.predict(X_test)"
   ]
  },
  {
   "cell_type": "code",
   "execution_count": null,
   "id": "6f9466a2",
   "metadata": {},
   "outputs": [],
   "source": [
    "model.feature_name_"
   ]
  },
  {
   "cell_type": "code",
   "execution_count": null,
   "id": "236315c8",
   "metadata": {},
   "outputs": [],
   "source": [
    "import matplotlib.pyplot as plt\n",
    "import seaborn as sns\n",
    "from sklearn.metrics import mean_squared_error"
   ]
  },
  {
   "cell_type": "code",
   "execution_count": null,
   "id": "c85a96de",
   "metadata": {},
   "outputs": [],
   "source": [
    "mean_squared_error(y_test, model.predict(X_test))"
   ]
  },
  {
   "cell_type": "code",
   "execution_count": null,
   "id": "eebd4262",
   "metadata": {},
   "outputs": [],
   "source": [
    "def plot_feature_importance(\n",
    "    model_importance: lgb.LGBMModel,\n",
    "    plot_features: int,\n",
    "    save_dir: str,\n",
    "    save_name: str,\n",
    ") -> None:\n",
    "    \"\"\"\n",
    "    特徴量重要度のプロットを行う\n",
    "    Args:\n",
    "        model_importance (AbstractTrainer): 特徴量重要度を取得するモデル\n",
    "        plot_features (int): 表示する特徴量の数\n",
    "        save_dir (str): 保存先のディレクトリ\n",
    "        save_name (str): 保存するファイル名\n",
    "    \"\"\"\n",
    "    df_importance = pd.DataFrame(\n",
    "        {\n",
    "            \"feature\": model_importance.feature_name_,\n",
    "            \"importance\": model_importance.feature_importances_,\n",
    "        },\n",
    "    )\n",
    "    df_importance = df_importance.sort_values(\"importance\", ascending=False)\n",
    "    plt.figure(figsize=(10, plot_features / 2))\n",
    "    sns.barplot(\n",
    "        x=\"importance\",\n",
    "        y=\"feature\",\n",
    "        data=df_importance.iloc[:plot_features],\n",
    "    )\n",
    "    plt.tight_layout()"
   ]
  },
  {
   "cell_type": "code",
   "execution_count": null,
   "id": "a4427f50",
   "metadata": {},
   "outputs": [],
   "source": [
    "plot_feature_importance(\n",
    "    model,\n",
    "    plot_features=20,\n",
    "    save_dir=\"./feature_importance\",\n",
    "    save_name=\"feature_importance\",\n",
    ")"
   ]
  },
  {
   "cell_type": "code",
   "execution_count": null,
   "id": "a187492f",
   "metadata": {},
   "outputs": [],
   "source": []
  }
 ],
 "metadata": {
  "kernelspec": {
   "display_name": "power-forecasting-mlops",
   "language": "python",
   "name": "power-forecasting-mlops"
  },
  "language_info": {
   "codemirror_mode": {
    "name": "ipython",
    "version": 3
   },
   "file_extension": ".py",
   "mimetype": "text/x-python",
   "name": "python",
   "nbconvert_exporter": "python",
   "pygments_lexer": "ipython3",
   "version": "3.10.8"
  }
 },
 "nbformat": 4,
 "nbformat_minor": 5
}
